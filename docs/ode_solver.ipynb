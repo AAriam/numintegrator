{
 "cells": [
  {
   "cell_type": "markdown",
   "id": "a4dd3410",
   "metadata": {},
   "source": [
    "# Demonstration of `ode_solver` Sub-Package\n",
    "Author: Armin Ariamajd"
   ]
  },
  {
   "cell_type": "markdown",
   "id": "77f546c5",
   "metadata": {},
   "source": [
    "## Introduction"
   ]
  },
  {
   "cell_type": "markdown",
   "id": "7e8adc53",
   "metadata": {},
   "source": [
    "As the name suggests, `ode_solver` is a package for **solving ordinary differential equations (ODEs)** by means of **numerical integration** methods.\n"
   ]
  },
  {
   "cell_type": "markdown",
   "id": "115ed441",
   "metadata": {},
   "source": [
    "The package is able to solve **1st-order ODEs** of the form\n",
    "$$\\frac{d}{dt} x(t) = f(x, t)\\label{eq:diff1}$$\n",
    "and **2nd-order ODEs** of the form\n",
    "$$\\frac{d^2}{dt^2} x(t) = f(x, t)\\label{eq:diff2_1}$$\n",
    "where\n",
    "$$\\frac{d}{dt} x(t) = v(t)\\label{eq:diff2_2}$$"
   ]
  },
  {
   "cell_type": "markdown",
   "id": "383ad2c2",
   "metadata": {},
   "source": [
    "### Input Requirements"
   ]
  },
  {
   "cell_type": "markdown",
   "id": "03710846",
   "metadata": {},
   "source": [
    "For solving 1st-order ODEs, following inputs are required:\n",
    "* The initial values, i.e. $x(t_0)$, and $t_0$.\n",
    " * $x(t_0)$ (in code: `x0`) can be an array of any desired shape and size.\n",
    " * $t_0$ (in code: `t0`) must be a number.\n",
    "\n",
    "\n",
    "* A set of inputs to specify the values of $t$, at which $x$ should be evaluated. There are several options available:\n",
    "\n",
    " * **Option 1**: An array of $\\Delta t$ values (in code: `dt`), i.e. [$\\Delta t_1$, $\\Delta t_2$, ..., $\\Delta t_n$] is provided, where $n$ is the number of times the value of $x(t)$ will be evaluated. The points at which $x(t)$ is evaluated are thus: $t_0 + \\Delta t_1$, $t_0 + \\Delta t_1 + \\Delta t_2$, ..., $t_0 + \\Delta t_1 + \\Delta t_2 + ... + \\Delta t_n$.\n",
    "\n",
    " * **Option 2**: A constant value of $\\Delta t$ is provided, along with the number of steps $n_{steps}$ (in code: `n_steps`) to evalute $x(t)$ for. The points at which $x(t)$ is evaluated will thus be: $t_0 + \\Delta t$, $t_0 + 2\\Delta t$, ..., $t_0 + n_{steps}\\Delta t$.\n",
    " \n",
    " * **Option 3**: A constant value of $\\Delta t$ is provided, along with the last point $t_n$ (in code: `tn`) to evalute $x(t)$ at. From these values, $n_{steps}$ is first calculated according to: \n",
    " $$n_{steps} = \\frac{t_n - t_0}{\\Delta t}$$\n",
    " If $n_{steps}$ is an integer, then the points at which $x(t)$ is evaluated will simply be: $t_0 + \\Delta t$, $t_0 + 2\\Delta t$, ..., $t_0 + n_{steps}\\Delta t$. However, if that is not the case, then the largest integer smaller than $n_{steps}$ (i.e. $floor(n_{steps}$)) is taken to produce a $t$ series, to which $t_n$ as appended to give the following points: $t_0 + \\Delta t$, $t_0 + 2\\Delta t$, ..., $t_0 + floor(n_{steps})\\Delta t, t_n$. Consequently, the last $\\Delta t$ will have a different value than all others.\n",
    " \n",
    " * **Option 4**: The values for $t_n$ and $n_{steps}$ are provided. From these, $\\Delta t$ is calculated:\n",
    " $$\\Delta t = \\frac{t_n - t_0}{n_{steps}}$$\n",
    " The points at which $x(t)$ is evaluated will then be: $t_0 + \\Delta t$, $t_0 + 2\\Delta t$, ..., $t_0 + (n_{steps}-1)\\Delta t$, $t_n$.\n",
    "\n",
    "\n",
    "* The right-hand side of the ODE, i.e. $f(x,t)$ (in code: `f`)\n",
    " * $f$ must be python function that returns either a scalar, or an array with the same shape and size as those of $x(t_0)$.\n",
    " * It must accept two arguments corresponding to $x$ and $t$, where $x$ should be the first argument, and $t$ the second argument. However, the locals parameter names for $x$ and $t$ in the function are not relevant.\n",
    " * Even when $f$ is not actually a function of $x$ or $t$, the first two parameters should always be reserved for these arguments.\n",
    " * The function may have other non-default arguments, but these should also be provided to the solver separately.\n",
    " * The function may have an arbitrary number of default arguments."
   ]
  },
  {
   "cell_type": "markdown",
   "id": "21ac1018",
   "metadata": {},
   "source": [
    "For solving 2nd-order ODEs, in addition to the input data mentioned above, the following is required as well:\n",
    "* The initial values for $v$, i.e. $v(t_0)$ (in code: `v0`)."
   ]
  },
  {
   "cell_type": "markdown",
   "id": "6b501f07",
   "metadata": {},
   "source": [
    "### Integrators"
   ]
  },
  {
   "cell_type": "markdown",
   "id": "68fece09",
   "metadata": {},
   "source": [
    "The package provides a number of different integrators, which are able to solve ODEs by **explicit** and **implicit** methods.<br> \n",
    "The integrators are categorized based on two criteria:\n",
    "* **Order of the ODE**\n",
    "    * `ODE_1`: Can solve (a system of) 1st-order ODEs\n",
    "    * `ODE_2`: Can solve (a system of) 2nd-order ODEs\n",
    "    \n",
    "    \n",
    "* **Explicit/Implicit**\n",
    "    * `EXPLICIT`: Solves the ODE explicitly, only relying on the initial values.\n",
    "    * `IMPLICIT`: Solves the ODE implicitly with the help of another explicit integrator, using fixed-point iteration."
   ]
  },
  {
   "cell_type": "markdown",
   "id": "a767ab0c",
   "metadata": {},
   "source": [
    "## Demonstration"
   ]
  },
  {
   "cell_type": "markdown",
   "id": "ce86d454",
   "metadata": {},
   "source": [
    "After installing the `mdsim` package, the `ode_solver` package can be imported:"
   ]
  },
  {
   "cell_type": "code",
   "execution_count": 1,
   "id": "125d2e1c",
   "metadata": {},
   "outputs": [],
   "source": [
    "from mdsim import ode_solver as ode"
   ]
  },
  {
   "cell_type": "markdown",
   "id": "63424c27",
   "metadata": {},
   "source": [
    "The available integrators are stored as `Enum`, which can be viewed:"
   ]
  },
  {
   "cell_type": "code",
   "execution_count": 2,
   "id": "e63b36a4",
   "metadata": {},
   "outputs": [
    {
     "data": {
      "text/plain": [
       "['ODE_1_EXPLICIT_EULER',\n",
       " 'ODE_1_EXPLICIT_HEUN',\n",
       " 'ODE_1_EXPLICIT_RUNGE_KUTTA_ORDER4',\n",
       " 'ODE_1_IMPLICIT_EULER',\n",
       " 'ODE_1_IMPLICIT_CRANK_NICOLSON',\n",
       " 'ODE_1_IMPLICIT_MIDPOINT',\n",
       " 'ODE_2_EXPLICIT_EULER',\n",
       " 'ODE_2_EXPLICIT_VERLET',\n",
       " 'ODE_2_EXPLICIT_VELOCITY_VERLET',\n",
       " 'ODE_2_EXPLICIT_YOSHIDA_LEAPFROG_ORDER4']"
      ]
     },
     "execution_count": 2,
     "metadata": {},
     "output_type": "execute_result"
    }
   ],
   "source": [
    "[integrator.name for integrator in ode.Integrators]"
   ]
  },
  {
   "cell_type": "markdown",
   "id": "4c0d3be2",
   "metadata": {},
   "source": [
    "To solve an ODE using any of the above integrators, the `integrate` function is used."
   ]
  },
  {
   "cell_type": "markdown",
   "id": "075874b7",
   "metadata": {},
   "source": [
    "To demonstrate the `integrate` method, first we need a function corresponding to the right-hand side of the ODE of interest:"
   ]
  },
  {
   "cell_type": "code",
   "execution_count": null,
   "id": "b9c38c52",
   "metadata": {},
   "outputs": [],
   "source": [
    "def f1(y, x):\n",
    "    return (y + x) / (y - x)"
   ]
  },
  {
   "cell_type": "code",
   "execution_count": null,
   "id": "b0736779",
   "metadata": {},
   "outputs": [],
   "source": [
    "y, x = ode.integrate(\n",
    "    integrator=ode.Integrators.ODE_1_EXPLICIT_EULER,\n",
    "    f=f1,\n",
    "    x0=[1],\n",
    "    n_steps=10,\n",
    "    tn=0.5,\n",
    ")"
   ]
  },
  {
   "cell_type": "code",
   "execution_count": null,
   "id": "77c12e5d",
   "metadata": {},
   "outputs": [],
   "source": [
    "y"
   ]
  },
  {
   "cell_type": "code",
   "execution_count": null,
   "id": "1343ef47",
   "metadata": {},
   "outputs": [],
   "source": [
    "x"
   ]
  },
  {
   "cell_type": "code",
   "execution_count": null,
   "id": "ed4ad3cc",
   "metadata": {},
   "outputs": [],
   "source": []
  }
 ],
 "metadata": {
  "kernelspec": {
   "display_name": "Python 3 (ipykernel)",
   "language": "python",
   "name": "python3"
  },
  "language_info": {
   "codemirror_mode": {
    "name": "ipython",
    "version": 3
   },
   "file_extension": ".py",
   "mimetype": "text/x-python",
   "name": "python",
   "nbconvert_exporter": "python",
   "pygments_lexer": "ipython3",
   "version": "3.9.7"
  }
 },
 "nbformat": 4,
 "nbformat_minor": 5
}
